{
 "cells": [
  {
   "cell_type": "markdown",
   "metadata": {},
   "source": [
    "# Collaborative Filtering\n",
    "## with Matrix Factorization"
   ]
  },
  {
   "cell_type": "markdown",
   "metadata": {},
   "source": [
    "* 추천시스템?\n",
    "    - 사용자가 사용하지 않은 아이템에 대한 선호도를 예측"
   ]
  },
  {
   "cell_type": "markdown",
   "metadata": {},
   "source": [
    "### Matrix Factorization\n",
    "\n",
    "- 잠재변수는 Hyper parameter\n",
    "    - GridSearch 등을 사용하여 최적의 값 찾아야"
   ]
  },
  {
   "cell_type": "markdown",
   "metadata": {},
   "source": [
    "### How to Matrix Factorization?\n",
    "- 우리의 목적\n",
    "    - 사용자와 상호작용하지 않은 제품에 대한 선호도를 예측\n",
    "- Matrix Factorization의 목적함수\n",
    "    - 예상 평점과 실제 평점의 차이를 최소화하는 것\n",
    "    - <img src=\"data/tgt.png\" width=\"500px\" align=\"left\">"
   ]
  },
  {
   "cell_type": "markdown",
   "metadata": {},
   "source": [
    "### 학습방법\n",
    "- ALS에 비해 SGD가 빠른편이다. ALS는 연산과정이 더 필요하기 때문.\n",
    "\n",
    "\n",
    "#### SGD(Stochastic Gradient Descent)\n",
    "1. 특정 지점에서 어디로 가야 최소로 가는 방향인지 확인한다 (Gradient)\n",
    "2. Gradient를 일정 부분 사용자 vector, 제품 vector에 각각 update 해준다.\n",
    "    <img src=\"data/06_0803.png\" width=\"300\">\n",
    "    <img src=\"data/06_0804.png\" width=\"300\">"
   ]
  },
  {
   "cell_type": "markdown",
   "metadata": {},
   "source": [
    "#### ALS(Alternating Least Square)\n",
    "1. 사용자 vector를 상수라고 가정하자.\n",
    "2. L의 제품 vector에 대한 미분 값이 0(최소값)일 때의 제품 vector를 구한다.\n",
    "3. 2의 vector를 제품 vector에 업데이트 한다.<br><img src=\"data/06_0901.png\" width=\"300\"><br>\n",
    "4. 제품 vector를 상수라고 가정하자.\n",
    "5. L의 사용자 vector에 대한 미분 값이 0(최소값)일 때의 사용자 vector를 구한다. \n",
    "6. 5의 vector를 사용자 vector에 업데이트 한다.<br><img src=\"data/06_0902.png\" width=\"300\"><br>\n",
    "    \n",
    "    \n",
    "- 둘 중 하나를 상수로 두면, 변수가 하나로 줄고, 해를 구할 수 있다.\n",
    "- 양쪽에 대해서 계산을 진행하면 최솟값을 찾을 수 있다?"
   ]
  },
  {
   "cell_type": "markdown",
   "metadata": {},
   "source": [
    "### Bias(편향)\n",
    "- user: 좀 더 너그러운 사용자가 있는 반면 비판적인 사용자가 있다.\n",
    "- item: 인기가 많은 제품 군이 있는 반면 항상 인기가 없는 제품 군이 있다.\n",
    "- 상기의 편향을 목적함수에 고려해줘야 한다.\n",
    "***\n",
    "![](data/06_1002.png)\n",
    "***\n",
    "- 전체 평점의 평균을 기준으로 잡고 item, user의 치우친 정도를 고려했을 때 예상 평점과 실제 평점과의 차이의 총합을 최소화 하겠다."
   ]
  },
  {
   "cell_type": "markdown",
   "metadata": {},
   "source": [
    "### Implicit feedback\n",
    "- 새벽 2시부터 3시까지 시청한 TV 채널이 정말 선호하는 채널인가?\n",
    "\n",
    "\n",
    "- preference(선호도): user의 관심 여부를 나타내며 1, 0의 값으로 나타낸다.\n",
    "- confidence(신뢰도): user의 관심을 얼마나 신뢰할 수 있을 것인지를 나타내며 관심을 보여준 정도(implicit feedback: 마우스 클릭 등)에 비례한다. \n",
    "\n",
    "\n",
    "- Implicit feedback은 explicit과 다르게 user의 의중을 정확하게 파악하기가 어렵다. 그래서 관심을 준 item에 대해서는 ‘선호함’ 이라고 가정하고 이에대한 가중치를 feedback의 값에 비례해서 ‘신뢰한다’ 고 가정한다. \n",
    "\n",
    "***\n",
    "![](data/06_1101.png)\n",
    "***\n",
    "\n",
    "- user의 관심 여부를 예측해서 실제와의 차이를 최소화한다. 대신 신뢰도만큼 가중치를 둬서 가중치가 높은 데이터는 더 주의 깊게 본다.\n",
    "- $c_{ui}$(신뢰도)는 Hyper parameter로, 얼마나 가중치를 줄 지 지정할 수 있다."
   ]
  }
 ],
 "metadata": {
  "kernelspec": {
   "display_name": "Python 3",
   "language": "python",
   "name": "python3"
  },
  "language_info": {
   "codemirror_mode": {
    "name": "ipython",
    "version": 3
   },
   "file_extension": ".py",
   "mimetype": "text/x-python",
   "name": "python",
   "nbconvert_exporter": "python",
   "pygments_lexer": "ipython3",
   "version": "3.6.3"
  }
 },
 "nbformat": 4,
 "nbformat_minor": 2
}
